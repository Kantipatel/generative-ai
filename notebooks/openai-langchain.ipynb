{
 "cells": [
  {
   "cell_type": "code",
   "execution_count": null,
   "metadata": {},
   "outputs": [],
   "source": [
    "%pip install langchain langchain-openai tiktoken"
   ]
  },
  {
   "cell_type": "code",
   "execution_count": null,
   "metadata": {},
   "outputs": [],
   "source": [
    "# make sure to set the environment varaible OPENAI_API_KEY to your API key\n",
    "# export OPENAI_API_KEY=\"...\""
   ]
  },
  {
   "cell_type": "code",
   "execution_count": null,
   "metadata": {},
   "outputs": [
    {
     "name": "stdout",
     "output_type": "stream",
     "text": [
      "api-key-to-add-here"
     ]
    }
   ],
   "source": [
    "import os\n",
    "import os\n",
    "\n",
    "# read all environment variables\n",
    "os.environ[\"OPENAI_API_KEY\"] = \"your api key in here\"\n",
    "\n",
    "\n"
   ]
  },
  {
   "cell_type": "code",
   "execution_count": null,
   "metadata": {},
   "outputs": [],
   "source": [
    "\n",
    "# read in openapi key environment variable\n",
    "openai_api_key = os.getenv(\"OPENAI_API_KEY\")\n",
    "print(openai_api_key)\n",
    "\n"
   ]
  },
  {
   "cell_type": "code",
   "execution_count": 22,
   "metadata": {},
   "outputs": [],
   "source": [
    "# now initialize the model:\n",
    "from langchain_openai import ChatOpenAI\n",
    "llm = ChatOpenAI()"
   ]
  },
  {
   "cell_type": "code",
   "execution_count": null,
   "metadata": {},
   "outputs": [],
   "source": [
    "llm.invoke(\"how can langsmith help with testing?\")"
   ]
  },
  {
   "cell_type": "markdown",
   "metadata": {},
   "source": [
    "Prompt templates are used to convert raw user input to a better input to the LLM."
   ]
  },
  {
   "cell_type": "code",
   "execution_count": 27,
   "metadata": {},
   "outputs": [],
   "source": [
    "from langchain_core.prompts import ChatPromptTemplate\n",
    "prompt = ChatPromptTemplate.from_messages([\n",
    "    (\"system\", \"You are world class technical documentation writer.\"),\n",
    "    (\"user\", \"{input}\")\n",
    "])"
   ]
  },
  {
   "cell_type": "markdown",
   "metadata": {},
   "source": [
    "We can now combine these into a simple LLM chain:"
   ]
  },
  {
   "cell_type": "code",
   "execution_count": 28,
   "metadata": {},
   "outputs": [],
   "source": [
    "chain = prompt | llm "
   ]
  },
  {
   "cell_type": "markdown",
   "metadata": {},
   "source": [
    "We can now invoke it and ask the same question. \n",
    "It still won't know the answer, but it should respond in a more proper tone for a technical writer!"
   ]
  },
  {
   "cell_type": "code",
   "execution_count": 29,
   "metadata": {},
   "outputs": [
    {
     "data": {
      "text/plain": [
       "AIMessage(content='Langsmith can greatly assist with testing by providing a comprehensive and powerful language testing framework. Here are some ways in which Langsmith can help with testing:\\n\\n1. Test Generation: Langsmith can generate a wide range of test cases automatically based on the specified grammar and language rules. This saves time and effort by reducing the need for manual test case creation.\\n\\n2. Test Execution: Langsmith enables the execution of generated test cases against the target system or software. It provides a streamlined process for running tests and capturing the results.\\n\\n3. Test Coverage: With Langsmith, you can measure the coverage of your tests. It helps identify areas of the software that have not been adequately tested, allowing you to improve test coverage and ensure a more thorough evaluation.\\n\\n4. Error Detection: The framework can identify errors and inconsistencies in the software being tested. It can uncover issues such as incorrect or ambiguous language usage, missing or mismatched translations, and other linguistic errors.\\n\\n5. Localization Testing: Langsmith is particularly useful for localization testing. It can generate test cases that cover various language variations, cultural differences, and locale-specific requirements. This ensures that the software performs correctly in different languages and regions.\\n\\n6. Regression Testing: Langsmith can assist with regression testing by automatically generating test cases for previously identified issues. This helps ensure that resolved problems do not reappear in subsequent versions of the software.\\n\\n7. Documentation Testing: Langsmith can be used to test the accuracy and effectiveness of documentation, such as user manuals or technical guides. It can verify that the documentation correctly reflects the behavior and functionality of the software, thereby improving the overall quality of the documentation.\\n\\nOverall, Langsmith provides a robust and efficient framework for language-based testing, enabling you to enhance the effectiveness and efficiency of your testing efforts.')"
      ]
     },
     "execution_count": 29,
     "metadata": {},
     "output_type": "execute_result"
    }
   ],
   "source": [
    "chain.invoke({\"input\": \"how can langsmith help with testing?\"})"
   ]
  },
  {
   "cell_type": "markdown",
   "metadata": {},
   "source": [
    "The output of a ChatModel (and therefore, of this chain) is a message. \n",
    "However, it's often much more convenient to work with strings. \n",
    "Let's add a simple output parser to convert the chat message to a string."
   ]
  },
  {
   "cell_type": "code",
   "execution_count": 30,
   "metadata": {},
   "outputs": [],
   "source": [
    "from langchain_core.output_parsers import StrOutputParser\n",
    "output_parser = StrOutputParser()"
   ]
  },
  {
   "cell_type": "markdown",
   "metadata": {},
   "source": [
    "We can now add this to the previous chain:"
   ]
  },
  {
   "cell_type": "code",
   "execution_count": 31,
   "metadata": {},
   "outputs": [],
   "source": [
    "chain = prompt | llm | output_parser"
   ]
  },
  {
   "cell_type": "markdown",
   "metadata": {},
   "source": [
    "We can now invoke it and ask the same question.\n",
    "The answer will now be a string (rather than a ChatMessage)."
   ]
  },
  {
   "cell_type": "code",
   "execution_count": 32,
   "metadata": {},
   "outputs": [
    {
     "data": {
      "text/plain": [
       "'Langsmith is a powerful tool that can greatly aid in testing software applications. Here are some ways Langsmith can help with testing:\\n\\n1. Test Case Generation: Langsmith can automatically generate test cases based on predefined criteria, such as code coverage or specific requirements. This helps in ensuring comprehensive testing of the software.\\n\\n2. Test Data Generation: Langsmith can generate realistic and diverse test data to validate different scenarios and edge cases. This helps in uncovering bugs and potential issues that might not be apparent with limited or repetitive test data.\\n\\n3. Test Execution and Automation: Langsmith can execute test cases automatically, minimizing human effort and saving time. It can also integrate with testing frameworks, allowing for seamless integration into existing test automation processes.\\n\\n4. Bug Detection and Localization: By analyzing the codebase and performing static code analysis, Langsmith can uncover potential bugs, vulnerabilities, and performance issues. It can help localize the root cause of the problem, making it easier for developers and testers to fix the issues efficiently.\\n\\n5. Test Reporting and Analysis: Langsmith can generate detailed reports on test execution, code coverage, and detected issues. These reports provide valuable insights into the quality of the software and help in identifying areas that require improvement.\\n\\n6. Regression Testing: Langsmith can automate regression testing by re-executing previously executed test cases. This ensures that new changes and bug fixes do not introduce new issues into the software.\\n\\n7. Integration Testing: Langsmith can assist in integration testing by simulating different components or systems and verifying their interactions. It can help identify compatibility issues and ensure smooth integration between various parts of the software.\\n\\n8. Performance Testing: Langsmith can be used to generate load and stress tests to evaluate the performance of the software under different conditions. This helps in identifying bottlenecks, scalability issues, and performance degradation.\\n\\nOverall, Langsmith can enhance the testing process by automating repetitive tasks, generating test cases and data, detecting bugs, and providing valuable insights into the quality of the software. It helps in saving time, improving test coverage, and ensuring the reliability and stability of the application.'"
      ]
     },
     "execution_count": 32,
     "metadata": {},
     "output_type": "execute_result"
    }
   ],
   "source": [
    "chain.invoke({\"input\": \"how can langsmith help with testing?\"})"
   ]
  },
  {
   "cell_type": "code",
   "execution_count": null,
   "metadata": {},
   "outputs": [],
   "source": []
  },
  {
   "cell_type": "code",
   "execution_count": null,
   "metadata": {},
   "outputs": [],
   "source": []
  },
  {
   "cell_type": "code",
   "execution_count": null,
   "metadata": {},
   "outputs": [],
   "source": []
  }
 ],
 "metadata": {
  "kernelspec": {
   "display_name": ".venv",
   "language": "python",
   "name": "python3"
  },
  "language_info": {
   "codemirror_mode": {
    "name": "ipython",
    "version": 3
   },
   "file_extension": ".py",
   "mimetype": "text/x-python",
   "name": "python",
   "nbconvert_exporter": "python",
   "pygments_lexer": "ipython3",
   "version": "3.11.6"
  }
 },
 "nbformat": 4,
 "nbformat_minor": 2
}
